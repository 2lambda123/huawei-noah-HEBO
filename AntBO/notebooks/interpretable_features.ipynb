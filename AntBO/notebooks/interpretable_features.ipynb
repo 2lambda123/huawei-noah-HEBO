{
 "cells": [
  {
   "cell_type": "code",
   "execution_count": 1,
   "id": "60bde0aa-d2e8-4b65-a9ce-dd124cf46bb5",
   "metadata": {},
   "outputs": [],
   "source": [
    "%load_ext autoreload\n",
    "%autoreload 2\n",
    "\n",
    "import numpy as np\n",
    "import matplotlib.pyplot as plt\n",
    "\n",
    "import os\n",
    "\n",
    "import sys\n",
    "sys.path[0] = \"..\""
   ]
  },
  {
   "cell_type": "code",
   "execution_count": 2,
   "id": "b8e03a16-db56-479e-ba0f-a9a59f69849e",
   "metadata": {},
   "outputs": [],
   "source": [
    "import math\n",
    "import torch\n",
    "import gpytorch"
   ]
  },
  {
   "cell_type": "code",
   "execution_count": 3,
   "id": "cb71e8b4-36ed-4d3d-b262-60ead8caa8fe",
   "metadata": {},
   "outputs": [],
   "source": [
    "from bo.gp import GP, train_gp"
   ]
  },
  {
   "cell_type": "markdown",
   "id": "4756d0e4-fa6e-43fd-9644-c1b3e57a45fb",
   "metadata": {},
   "source": [
    "#### Create datasets with categorical inputs\n",
    "\n",
    "Features for categorical inputs are obtained through one-hot encoding. We can express transformed overlap kernel as a function of the features $\\phi_{i,j}$ for $i\\in \\{1,...,d\\}$ and $j \\in \\{1, ..., \\#\\text{cat}\\}$:\n",
    "\n",
    "$$K(x, x') = f(\\sum_i \\lambda_i \\delta(x_i, x'_i))= f(\\sum_i \\frac{\\lambda_i}{2} \\sum_j |\\phi_{i,j}(x) - \\phi_{i, j}(x^\\prime)|= f(\\sum_{i,j} \\lambda_{i,j} |\\phi_{i,j}(x) - \\phi_{i, j}(x^\\prime)|)$$\n",
    "where $\\phi_{i,j}(x) = \\delta(x_i, j)$ and $\\lambda_{i, j} = \\lambda_i / 2$.\n"
   ]
  },
  {
   "cell_type": "code",
   "execution_count": 86,
   "id": "0b1ab066-9ca4-4131-b04e-77088fac10bd",
   "metadata": {},
   "outputs": [],
   "source": [
    "n_train = 300\n",
    "n_cat = 20\n",
    "dim = 11\n",
    "\n",
    "train_x = torch.randint(0, n_cat, size=(n_train, dim))\n",
    "train_y = torch.randn(n_train, 1)"
   ]
  },
  {
   "cell_type": "markdown",
   "id": "aa39b6a2-55cb-4eeb-ba40-d30edac67266",
   "metadata": {},
   "source": [
    "##### Create and train the model GP model with transformed overlap kernel"
   ]
  },
  {
   "cell_type": "code",
   "execution_count": 87,
   "id": "896470ff-1567-4729-9073-4fe7c5f326f9",
   "metadata": {},
   "outputs": [],
   "source": [
    "# initialize likelihood and model\n",
    "model = train_gp(train_x.float(), train_y.flatten().float(), use_ard=True, num_steps=200)"
   ]
  },
  {
   "cell_type": "markdown",
   "id": "b83d61d9-fa10-4e25-a3f2-48d5c933ccd4",
   "metadata": {},
   "source": [
    "##### Compute Local and averaged global feature gradients for the training points \n",
    "Computation can take up to 1~2 minutes"
   ]
  },
  {
   "cell_type": "code",
   "execution_count": 88,
   "id": "b9e83dcc-baad-49e5-a5c4-6d01f0686276",
   "metadata": {},
   "outputs": [
    {
     "name": "stderr",
     "output_type": "stream",
     "text": [
      "/home/rladmin/antoineg/Projects/antigenbinding2/notebooks/../bo/gp.py:96: UserWarning: Warning: model was not in eval mode. It is now.\n",
      "  \n",
      "/home/rladmin/anaconda3/envs/rnaopt/lib/python3.8/site-packages/gpytorch/models/exact_gp.py:273: GPInputWarning: The input matches the stored training data. Did you forget to call model.train()?\n",
      "  warnings.warn(\n"
     ]
    }
   ],
   "source": [
    "# Local gradients\n",
    "dmu_dphi = model.dmu_dphi(num_cats=n_cat)\n",
    "print(dmu_dphi.shape)\n",
    "\n",
    "# global averaged gradient\n",
    "ag, ev = model.ag_ev_phi(num_cats=n_cat, dmu_dphi=dmu_dphi, n_samples_threshold=10)\n",
    "print(ag.shape, ev.shape)"
   ]
  },
  {
   "cell_type": "markdown",
   "id": "77526364-d460-4190-b266-6c78c6fa42f7",
   "metadata": {
    "tags": []
   },
   "source": [
    "##### Visualise influence magnitude\n",
    "We omit influence magnitude of some features if not enough samples have them."
   ]
  },
  {
   "cell_type": "code",
   "execution_count": 99,
   "id": "9cc8b1c0-c05d-4905-8f94-56a3f3bc4707",
   "metadata": {},
   "outputs": [
    {
     "data": {
      "image/png": "[encoded data removed]",
      "text/plain": [
       "<Figure size 523.636x288 with 2 Axes>"
      ]
     },
     "metadata": {
      "needs_background": "light"
     },
     "output_type": "display_data"
    }
   ],
   "source": [
    "plt.matshow(ag / ev.sqrt())\n",
    "plt.xlabel(\"Category\", fontsize=16)\n",
    "plt.ylabel(\"Dimension\", fontsize=16)\n",
    "cax = plt.colorbar()\n",
    "cax.set_label(\"Influence magnitude:\\n\" + r\"$AG(\\phi) / \\sqrt{EV(\\phi)}$\", fontsize=16)\n",
    "plt.show()"
   ]
  }
 ],
 "metadata": {
  "kernelspec": {
   "display_name": "rnaopt",
   "language": "python",
   "name": "rnaopt"
  },
  "language_info": {
   "codemirror_mode": {
    "name": "ipython",
    "version": 3
   },
   "file_extension": ".py",
   "mimetype": "text/x-python",
   "name": "python",
   "nbconvert_exporter": "python",
   "pygments_lexer": "ipython3",
   "version": "3.8.12"
  }
 },
 "nbformat": 4,
 "nbformat_minor": 5
}
