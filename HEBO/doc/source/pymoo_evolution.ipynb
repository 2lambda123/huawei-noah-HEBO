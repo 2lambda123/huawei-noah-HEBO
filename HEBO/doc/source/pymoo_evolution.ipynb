{
 "cells": [
  {
   "cell_type": "markdown",
   "metadata": {},
   "source": [
    "# Evolutionary Optimization with HEBO API\n",
    "\n",
    "Though we mainly focus on Bayesian optimsation algorithms, we also include evolutionary optimisation algorithms in HEBO, the evolutionary algorithm is a wrapper of algorithms from `pymoo`, below is an example that applies differential evolution algorithm to optimise the Ackley function."
   ]
  },
  {
   "cell_type": "code",
   "execution_count": 10,
   "metadata": {},
   "outputs": [],
   "source": [
    "from hebo.design_space import DesignSpace\n",
    "from hebo.optimizers.evolution import Evolution\n",
    "from hebo.benchmarks.synthetic_benchmarks import Ackley"
   ]
  },
  {
   "cell_type": "code",
   "execution_count": 11,
   "metadata": {},
   "outputs": [],
   "source": [
    "prob = Ackley(dim = 2)"
   ]
  },
  {
   "cell_type": "code",
   "execution_count": 12,
   "metadata": {},
   "outputs": [
    {
     "name": "stdout",
     "output_type": "stream",
     "text": [
      "    1 |     100 |  9.801246852 |  2.02280E+01\n",
      "    2 |     200 |  2.909631464 |  1.69228E+01\n",
      "    3 |     300 |  2.815217476 |  1.32613E+01\n",
      "    4 |     400 |  2.646412912 |  9.695341586\n",
      "    5 |     500 |  1.242801428 |  6.651983101\n",
      "    6 |     600 |  0.209210787 |  4.415596345\n",
      "    7 |     700 |  0.072168031 |  2.681911917\n",
      "    8 |     800 |  0.029901222 |  1.706953753\n",
      "    9 |     900 |  0.009651858 |  0.915311097\n",
      "   10 |    1000 |  0.009651858 |  0.442287468\n",
      "   11 |    1100 |  0.009651858 |  0.167843522\n",
      "   12 |    1200 |  0.008691742 |  0.064215683\n",
      "   13 |    1300 |  0.003673483 |  0.031874574\n",
      "   14 |    1400 |  0.000484503 |  0.015767501\n",
      "   15 |    1500 |  0.000196722 |  0.008707443\n",
      "   16 |    1600 |  0.000120490 |  0.004780801\n",
      "   17 |    1700 |  0.000120268 |  0.002420470\n",
      "   18 |    1800 |  0.000119337 |  0.001064583\n",
      "   19 |    1900 |  0.000119337 |  0.000527714\n",
      "   20 |    2000 |  0.000079943 |  0.000273763\n",
      "   21 |    2100 |  2.30069E-06 |  0.000152152\n",
      "   22 |    2200 |  1.03498E-06 |  0.000090650\n",
      "   23 |    2300 |  1.03498E-06 |  0.000056089\n",
      "   24 |    2400 |  1.02798E-06 |  0.000029375\n",
      "   25 |    2500 |  1.02798E-06 |  0.000014847\n",
      "   26 |    2600 |  1.94189E-07 |  7.05685E-06\n",
      "   27 |    2700 |  1.93329E-07 |  3.17235E-06\n",
      "   28 |    2800 |  1.84926E-08 |  1.49617E-06\n",
      "   29 |    2900 |  1.32598E-08 |  7.01790E-07\n",
      "   30 |    3000 |  1.04498E-08 |  3.34182E-07\n",
      "After iter 30, evaluated 3000, best_y is 1.0449771270515384e-08\n"
     ]
    }
   ],
   "source": [
    "opt = Evolution(prob.space, num_obj = 1, num_constr = 0, algo = 'de', verbose = True)\n",
    "n_eval = 0\n",
    "for i in range(30):\n",
    "    rec     = opt.suggest()\n",
    "    obs     = prob(rec)\n",
    "    n_eval += rec.shape[0]\n",
    "    opt.observe(rec, obs)\n",
    "print(f'After iter {i+1}, evaluated {n_eval}, best_y is {opt.best_y.squeeze()}')"
   ]
  },
  {
   "cell_type": "code",
   "execution_count": 13,
   "metadata": {},
   "outputs": [],
   "source": [
    "# Copyright (C) 2020. Huawei Technologies Co., Ltd. All rights reserved.\n",
    "\n",
    "# This program is free software; you can redistribute it and/or modify it under\n",
    "# the terms of the MIT license.\n",
    "\n",
    "# This program is distributed in the hope that it will be useful, but WITHOUT ANY\n",
    "# WARRANTY; without even the implied warranty of MERCHANTABILITY or FITNESS FOR A\n",
    "# PARTICULAR PURPOSE. See the MIT License for more details"
   ]
  }
 ],
 "metadata": {
  "kernelspec": {
   "display_name": "Python 3",
   "language": "python",
   "name": "python3"
  },
  "language_info": {
   "codemirror_mode": {
    "name": "ipython",
    "version": 3
   },
   "file_extension": ".py",
   "mimetype": "text/x-python",
   "name": "python",
   "nbconvert_exporter": "python",
   "pygments_lexer": "ipython3",
   "version": "3.7.6"
  }
 },
 "nbformat": 4,
 "nbformat_minor": 4
}
